{
  "cells": [
    {
      "cell_type": "code",
      "execution_count": null,
      "metadata": {
        "id": "ED3fpzr9nThp"
      },
      "outputs": [],
      "source": [
        "import numpy as np\n",
        "import pandas as pd\n",
        "from sklearn import preprocessing\n",
        "RANDOM_SEED = 42"
      ]
    },
    {
      "cell_type": "markdown",
      "metadata": {
        "id": "XC5CSsGCnThr"
      },
      "source": [
        "## Project instructions\n",
        "\n",
        "### 1. Preparing the data\n",
        "\n",
        "#### 1.1. Reading data\n",
        "\n",
        "Read the train dataset  `kddCupTrain.csv` from `kddCupData.zip` and check it for missing values."
      ]
    },
    {
      "cell_type": "code",
      "execution_count": null,
      "metadata": {
        "colab": {
          "base_uri": "https://localhost:8080/"
        },
        "id": "4DC3DgUrnThr",
        "outputId": "dea6a05a-166a-4275-aa91-899c38297042"
      },
      "outputs": [
        {
          "output_type": "stream",
          "name": "stdout",
          "text": [
            "Shape of kddCupTrain:  (985262, 42)\n",
            "There are any missing values:  False\n",
            "   0    1     2   3    4      5   6   7   8   9   ...  32   33   34   35   36  \\\n",
            "0   0  tcp  http  SF  215  45076   0   0   0   0  ...   0  0.0  0.0  0.0  0.0   \n",
            "1   0  tcp  http  SF  162   4528   0   0   0   0  ...   1  1.0  0.0  1.0  0.0   \n",
            "2   0  tcp  http  SF  236   1228   0   0   0   0  ...   2  1.0  0.0  0.5  0.0   \n",
            "\n",
            "    37   38   39   40       41  \n",
            "0  0.0  0.0  0.0  0.0  normal.  \n",
            "1  0.0  0.0  0.0  0.0  normal.  \n",
            "2  0.0  0.0  0.0  0.0  normal.  \n",
            "\n",
            "[3 rows x 42 columns]\n"
          ]
        }
      ],
      "source": [
        "kddCupTrain = pd.read_csv('/content/kddCupTrain.csv',header=None)\n",
        "print(\"Shape of kddCupTrain: \",kddCupTrain.shape)\n",
        "print(\"There are any missing values: \", kddCupTrain.isnull().values.any())\n",
        "print(kddCupTrain.head(3))"
      ]
    },
    {
      "cell_type": "markdown",
      "metadata": {
        "id": "vb8mDhlznThs"
      },
      "source": [
        "The train dataset contains instances of only two class types from the [original](http://kdd.ics.uci.edu/databases/kddcup99/kddcup99.html) data:\n",
        "- \"normal.\" - no attack\n",
        "- \"ipsweep.\" - a subtype of \"probe\" or Probing Attack type."
      ]
    },
    {
      "cell_type": "code",
      "execution_count": null,
      "metadata": {
        "colab": {
          "base_uri": "https://localhost:8080/"
        },
        "id": "XL_x7KG8nThs",
        "outputId": "32a5d970-3de0-4b50-cca1-661e87085178"
      },
      "outputs": [
        {
          "output_type": "execute_result",
          "data": {
            "text/plain": [
              "array(['normal.', 'ipsweep.'], dtype=object)"
            ]
          },
          "metadata": {},
          "execution_count": 3
        }
      ],
      "source": [
        "kddCupTrain.iloc[:,-1].unique()"
      ]
    },
    {
      "cell_type": "markdown",
      "metadata": {
        "id": "y8s4SVQBnThs"
      },
      "source": [
        "Rename column '41' to 'Class' and transform its values from symbolic type fo binary:\n",
        "- \"normal.\" to 0\n",
        "- \"ipsweep.\" to 1"
      ]
    },
    {
      "cell_type": "code",
      "execution_count": null,
      "metadata": {
        "id": "hsYyMKNnnThs"
      },
      "outputs": [],
      "source": [
        "kddCupTrain.rename(columns={41:'Class'}, inplace=True)\n",
        "kddCupTrain['Class'] = np.where(kddCupTrain['Class'] == 'normal.', 0, 1)"
      ]
    },
    {
      "cell_type": "markdown",
      "metadata": {
        "id": "yUqWC9mUnTht"
      },
      "source": [
        "Check counts of classes."
      ]
    },
    {
      "cell_type": "code",
      "execution_count": null,
      "metadata": {
        "colab": {
          "base_uri": "https://localhost:8080/"
        },
        "id": "2CMvoc5SnTht",
        "outputId": "4ba0deaa-94f0-4780-b47c-aa4bd7065668"
      },
      "outputs": [
        {
          "output_type": "stream",
          "name": "stdout",
          "text": [
            "0    972781\n",
            "1     12481\n",
            "Name: Class, dtype: int64\n"
          ]
        }
      ],
      "source": [
        "count_classes = pd.value_counts(kddCupTrain['Class'], sort = True)\n",
        "print(count_classes)"
      ]
    },
    {
      "cell_type": "markdown",
      "metadata": {
        "id": "sLfqGQJOnTht"
      },
      "source": [
        "The dataset is highly imbalanced. Normal connections overwhelmingly outnumber fraudulent ones.\n",
        "This suggests using an autoencoder to detect attacks as rare deviations from normal."
      ]
    },
    {
      "cell_type": "markdown",
      "metadata": {
        "id": "1A81FnnMnTht"
      },
      "source": [
        "#### 1.2. Remove the uninformative columns\n",
        "\n",
        "Look at summaries of numeric features."
      ]
    },
    {
      "cell_type": "code",
      "execution_count": null,
      "metadata": {
        "scrolled": false,
        "colab": {
          "base_uri": "https://localhost:8080/"
        },
        "id": "ogDKIQNnnTht",
        "outputId": "127fada2-facd-4d95-ae52-d43cb6958746"
      },
      "outputs": [
        {
          "output_type": "stream",
          "name": "stdout",
          "text": [
            "                   0             4             5              6         7  \\\n",
            "count  985262.000000  9.852620e+05  9.852620e+05  985262.000000  985262.0   \n",
            "mean      215.078631  1.459258e+03  3.193730e+03       0.000007       0.0   \n",
            "std      1343.633640  1.097984e+05  3.401613e+04       0.002665       0.0   \n",
            "min         0.000000  0.000000e+00  0.000000e+00       0.000000       0.0   \n",
            "50%         0.000000  2.300000e+02  4.060000e+02       0.000000       0.0   \n",
            "max     58329.000000  8.958152e+07  1.173059e+07       1.000000       0.0   \n",
            "\n",
            "                   8              9             10             11  \\\n",
            "count  985262.000000  985262.000000  985262.000000  985262.000000   \n",
            "mean        0.000036       0.048908       0.000097       0.710185   \n",
            "std         0.015897       0.926008       0.013058       0.453677   \n",
            "min         0.000000       0.000000       0.000000       0.000000   \n",
            "50%         0.000000       0.000000       0.000000       1.000000   \n",
            "max        14.000000      77.000000       4.000000       1.000000   \n",
            "\n",
            "                  12  ...             32             33             34  \\\n",
            "count  985262.000000  ...  985262.000000  985262.000000  985262.000000   \n",
            "mean        0.037907  ...     201.430712       0.845963       0.056712   \n",
            "std         8.598590  ...      87.382719       0.304934       0.181323   \n",
            "min         0.000000  ...       0.000000       0.000000       0.000000   \n",
            "50%         0.000000  ...     255.000000       1.000000       0.000000   \n",
            "max      7479.000000  ...     255.000000       1.000000       1.000000   \n",
            "\n",
            "                  35             36             37             38  \\\n",
            "count  985262.000000  985262.000000  985262.000000  985262.000000   \n",
            "mean        0.145018       0.031659       0.002014       0.001037   \n",
            "std         0.295592       0.086754       0.028357       0.015326   \n",
            "min         0.000000       0.000000       0.000000       0.000000   \n",
            "50%         0.010000       0.010000       0.000000       0.000000   \n",
            "max         1.000000       1.000000       1.000000       1.000000   \n",
            "\n",
            "                  39             40          Class  \n",
            "count  985262.000000  985262.000000  985262.000000  \n",
            "mean        0.057911       0.056161       0.012668  \n",
            "std         0.225341       0.219637       0.111836  \n",
            "min         0.000000       0.000000       0.000000  \n",
            "50%         0.000000       0.000000       0.000000  \n",
            "max         1.000000       1.000000       1.000000  \n",
            "\n",
            "[6 rows x 39 columns]\n"
          ]
        }
      ],
      "source": [
        "print(kddCupTrain.describe(percentiles=[]))"
      ]
    },
    {
      "cell_type": "code",
      "execution_count": null,
      "metadata": {
        "colab": {
          "base_uri": "https://localhost:8080/"
        },
        "id": "w2yQ0W9_nTht",
        "outputId": "fb561689-448b-422d-cef7-29018ad6db0d"
      },
      "outputs": [
        {
          "output_type": "stream",
          "name": "stdout",
          "text": [
            "Index([7, 19], dtype='object')\n"
          ]
        },
        {
          "output_type": "stream",
          "name": "stderr",
          "text": [
            "<ipython-input-7-51dc0ab5f937>:1: FutureWarning: The default value of numeric_only in DataFrame.std is deprecated. In a future version, it will default to False. In addition, specifying 'numeric_only=None' is deprecated. Select only valid columns or specify the value of numeric_only to silence this warning.\n",
            "  columnsList = kddCupTrain.columns[(kddCupTrain.min() == kddCupTrain.max()) & (kddCupTrain.std() == 0)]\n"
          ]
        }
      ],
      "source": [
        "columnsList = kddCupTrain.columns[(kddCupTrain.min() == kddCupTrain.max()) & (kddCupTrain.std() == 0)]\n",
        "\n",
        "print(columnsList)"
      ]
    },
    {
      "cell_type": "code",
      "execution_count": null,
      "metadata": {
        "id": "Ngb2cVOqnTht"
      },
      "outputs": [],
      "source": [
        "kddCupTrain.drop(columnsList, axis=1, inplace=True)"
      ]
    },
    {
      "cell_type": "markdown",
      "metadata": {
        "id": "LyTzYZehnThv"
      },
      "source": [
        "After removing uninformative variables and replacing character variables with hot encoding the dataset contains 83 numeric features.\n",
        "\n",
        "#### 1.4. Standardize the training dataset\n",
        "\n",
        "Create a list of features, standardize the features columns using `sklearn.preprocessing.StandardScaler`.\n",
        "\n",
        "**Further steps are similar to those covered in the notebook `iLykei_DSBusinessIntelligence_CourseProject_FraudDetection.ipynb`.**"
      ]
    },
    {
      "cell_type": "code",
      "execution_count": null,
      "metadata": {
        "id": "AkB_d0bmnThv"
      },
      "outputs": [],
      "source": [
        "kddCupTrain.columns = kddCupTrain.columns.astype(str)"
      ]
    },
    {
      "cell_type": "code",
      "execution_count": null,
      "metadata": {
        "colab": {
          "base_uri": "https://localhost:8080/",
          "height": 487
        },
        "id": "TXrQK6UmnThv",
        "outputId": "4f02bf1a-2da3-429b-8b19-aa7cbf529bc3"
      },
      "outputs": [
        {
          "output_type": "execute_result",
          "data": {
            "text/plain": [
              "               0         4         5         6         8         9        10  \\\n",
              "0      -0.160072 -0.011332  1.231248 -0.002665 -0.002235 -0.052816 -0.007462   \n",
              "1      -0.160072 -0.011815  0.039225 -0.002665 -0.002235 -0.052816 -0.007462   \n",
              "2      -0.160072 -0.011141 -0.057788 -0.002665 -0.002235 -0.052816 -0.007462   \n",
              "3      -0.160072 -0.011168 -0.034152 -0.002665 -0.002235 -0.052816 -0.007462   \n",
              "4      -0.160072 -0.011114 -0.079601 -0.002665 -0.002235 -0.052816 -0.007462   \n",
              "...          ...       ...       ...       ...       ...       ...       ...   \n",
              "985257 -0.160072 -0.011360 -0.026627 -0.002665 -0.002235 -0.052816 -0.007462   \n",
              "985258 -0.160072 -0.011296 -0.086951 -0.002665 -0.002235 -0.052816 -0.007462   \n",
              "985259 -0.160072 -0.011305  0.012237 -0.002665 -0.002235 -0.052816 -0.007462   \n",
              "985260 -0.160072 -0.011296 -0.057612 -0.002665 -0.002235 -0.052816 -0.007462   \n",
              "985261 -0.160072 -0.011296 -0.061610 -0.002665 -0.002235 -0.052816 -0.007462   \n",
              "\n",
              "              11        12       13  ...  3_REJ  3_RSTO  3_RSTR  3_S0  3_S1  \\\n",
              "0       0.638815 -0.004408 -0.01751  ...      0       0       0     0     0   \n",
              "1       0.638815 -0.004408 -0.01751  ...      0       0       0     0     0   \n",
              "2       0.638815 -0.004408 -0.01751  ...      0       0       0     0     0   \n",
              "3       0.638815 -0.004408 -0.01751  ...      0       0       0     0     0   \n",
              "4       0.638815 -0.004408 -0.01751  ...      0       0       0     0     0   \n",
              "...          ...       ...      ...  ...    ...     ...     ...   ...   ...   \n",
              "985257  0.638815 -0.004408 -0.01751  ...      0       0       0     0     0   \n",
              "985258  0.638815 -0.004408 -0.01751  ...      0       0       0     0     0   \n",
              "985259  0.638815 -0.004408 -0.01751  ...      0       0       0     0     0   \n",
              "985260  0.638815 -0.004408 -0.01751  ...      0       0       0     0     0   \n",
              "985261  0.638815 -0.004408 -0.01751  ...      0       0       0     0     0   \n",
              "\n",
              "        3_S2  3_S3  3_SF  3_SH  Class  \n",
              "0          0     0     1     0      0  \n",
              "1          0     0     1     0      0  \n",
              "2          0     0     1     0      0  \n",
              "3          0     0     1     0      0  \n",
              "4          0     0     1     0      0  \n",
              "...      ...   ...   ...   ...    ...  \n",
              "985257     0     0     1     0      0  \n",
              "985258     0     0     1     0      0  \n",
              "985259     0     0     1     0      0  \n",
              "985260     0     0     1     0      0  \n",
              "985261     0     0     1     0      0  \n",
              "\n",
              "[985262 rows x 84 columns]"
            ],
            "text/html": [
              "\n",
              "  <div id=\"df-2aab8b6f-d86c-4ca5-b419-ab2868a2273e\">\n",
              "    <div class=\"colab-df-container\">\n",
              "      <div>\n",
              "<style scoped>\n",
              "    .dataframe tbody tr th:only-of-type {\n",
              "        vertical-align: middle;\n",
              "    }\n",
              "\n",
              "    .dataframe tbody tr th {\n",
              "        vertical-align: top;\n",
              "    }\n",
              "\n",
              "    .dataframe thead th {\n",
              "        text-align: right;\n",
              "    }\n",
              "</style>\n",
              "<table border=\"1\" class=\"dataframe\">\n",
              "  <thead>\n",
              "    <tr style=\"text-align: right;\">\n",
              "      <th></th>\n",
              "      <th>0</th>\n",
              "      <th>4</th>\n",
              "      <th>5</th>\n",
              "      <th>6</th>\n",
              "      <th>8</th>\n",
              "      <th>9</th>\n",
              "      <th>10</th>\n",
              "      <th>11</th>\n",
              "      <th>12</th>\n",
              "      <th>13</th>\n",
              "      <th>...</th>\n",
              "      <th>3_REJ</th>\n",
              "      <th>3_RSTO</th>\n",
              "      <th>3_RSTR</th>\n",
              "      <th>3_S0</th>\n",
              "      <th>3_S1</th>\n",
              "      <th>3_S2</th>\n",
              "      <th>3_S3</th>\n",
              "      <th>3_SF</th>\n",
              "      <th>3_SH</th>\n",
              "      <th>Class</th>\n",
              "    </tr>\n",
              "  </thead>\n",
              "  <tbody>\n",
              "    <tr>\n",
              "      <th>0</th>\n",
              "      <td>-0.160072</td>\n",
              "      <td>-0.011332</td>\n",
              "      <td>1.231248</td>\n",
              "      <td>-0.002665</td>\n",
              "      <td>-0.002235</td>\n",
              "      <td>-0.052816</td>\n",
              "      <td>-0.007462</td>\n",
              "      <td>0.638815</td>\n",
              "      <td>-0.004408</td>\n",
              "      <td>-0.01751</td>\n",
              "      <td>...</td>\n",
              "      <td>0</td>\n",
              "      <td>0</td>\n",
              "      <td>0</td>\n",
              "      <td>0</td>\n",
              "      <td>0</td>\n",
              "      <td>0</td>\n",
              "      <td>0</td>\n",
              "      <td>1</td>\n",
              "      <td>0</td>\n",
              "      <td>0</td>\n",
              "    </tr>\n",
              "    <tr>\n",
              "      <th>1</th>\n",
              "      <td>-0.160072</td>\n",
              "      <td>-0.011815</td>\n",
              "      <td>0.039225</td>\n",
              "      <td>-0.002665</td>\n",
              "      <td>-0.002235</td>\n",
              "      <td>-0.052816</td>\n",
              "      <td>-0.007462</td>\n",
              "      <td>0.638815</td>\n",
              "      <td>-0.004408</td>\n",
              "      <td>-0.01751</td>\n",
              "      <td>...</td>\n",
              "      <td>0</td>\n",
              "      <td>0</td>\n",
              "      <td>0</td>\n",
              "      <td>0</td>\n",
              "      <td>0</td>\n",
              "      <td>0</td>\n",
              "      <td>0</td>\n",
              "      <td>1</td>\n",
              "      <td>0</td>\n",
              "      <td>0</td>\n",
              "    </tr>\n",
              "    <tr>\n",
              "      <th>2</th>\n",
              "      <td>-0.160072</td>\n",
              "      <td>-0.011141</td>\n",
              "      <td>-0.057788</td>\n",
              "      <td>-0.002665</td>\n",
              "      <td>-0.002235</td>\n",
              "      <td>-0.052816</td>\n",
              "      <td>-0.007462</td>\n",
              "      <td>0.638815</td>\n",
              "      <td>-0.004408</td>\n",
              "      <td>-0.01751</td>\n",
              "      <td>...</td>\n",
              "      <td>0</td>\n",
              "      <td>0</td>\n",
              "      <td>0</td>\n",
              "      <td>0</td>\n",
              "      <td>0</td>\n",
              "      <td>0</td>\n",
              "      <td>0</td>\n",
              "      <td>1</td>\n",
              "      <td>0</td>\n",
              "      <td>0</td>\n",
              "    </tr>\n",
              "    <tr>\n",
              "      <th>3</th>\n",
              "      <td>-0.160072</td>\n",
              "      <td>-0.011168</td>\n",
              "      <td>-0.034152</td>\n",
              "      <td>-0.002665</td>\n",
              "      <td>-0.002235</td>\n",
              "      <td>-0.052816</td>\n",
              "      <td>-0.007462</td>\n",
              "      <td>0.638815</td>\n",
              "      <td>-0.004408</td>\n",
              "      <td>-0.01751</td>\n",
              "      <td>...</td>\n",
              "      <td>0</td>\n",
              "      <td>0</td>\n",
              "      <td>0</td>\n",
              "      <td>0</td>\n",
              "      <td>0</td>\n",
              "      <td>0</td>\n",
              "      <td>0</td>\n",
              "      <td>1</td>\n",
              "      <td>0</td>\n",
              "      <td>0</td>\n",
              "    </tr>\n",
              "    <tr>\n",
              "      <th>4</th>\n",
              "      <td>-0.160072</td>\n",
              "      <td>-0.011114</td>\n",
              "      <td>-0.079601</td>\n",
              "      <td>-0.002665</td>\n",
              "      <td>-0.002235</td>\n",
              "      <td>-0.052816</td>\n",
              "      <td>-0.007462</td>\n",
              "      <td>0.638815</td>\n",
              "      <td>-0.004408</td>\n",
              "      <td>-0.01751</td>\n",
              "      <td>...</td>\n",
              "      <td>0</td>\n",
              "      <td>0</td>\n",
              "      <td>0</td>\n",
              "      <td>0</td>\n",
              "      <td>0</td>\n",
              "      <td>0</td>\n",
              "      <td>0</td>\n",
              "      <td>1</td>\n",
              "      <td>0</td>\n",
              "      <td>0</td>\n",
              "    </tr>\n",
              "    <tr>\n",
              "      <th>...</th>\n",
              "      <td>...</td>\n",
              "      <td>...</td>\n",
              "      <td>...</td>\n",
              "      <td>...</td>\n",
              "      <td>...</td>\n",
              "      <td>...</td>\n",
              "      <td>...</td>\n",
              "      <td>...</td>\n",
              "      <td>...</td>\n",
              "      <td>...</td>\n",
              "      <td>...</td>\n",
              "      <td>...</td>\n",
              "      <td>...</td>\n",
              "      <td>...</td>\n",
              "      <td>...</td>\n",
              "      <td>...</td>\n",
              "      <td>...</td>\n",
              "      <td>...</td>\n",
              "      <td>...</td>\n",
              "      <td>...</td>\n",
              "      <td>...</td>\n",
              "    </tr>\n",
              "    <tr>\n",
              "      <th>985257</th>\n",
              "      <td>-0.160072</td>\n",
              "      <td>-0.011360</td>\n",
              "      <td>-0.026627</td>\n",
              "      <td>-0.002665</td>\n",
              "      <td>-0.002235</td>\n",
              "      <td>-0.052816</td>\n",
              "      <td>-0.007462</td>\n",
              "      <td>0.638815</td>\n",
              "      <td>-0.004408</td>\n",
              "      <td>-0.01751</td>\n",
              "      <td>...</td>\n",
              "      <td>0</td>\n",
              "      <td>0</td>\n",
              "      <td>0</td>\n",
              "      <td>0</td>\n",
              "      <td>0</td>\n",
              "      <td>0</td>\n",
              "      <td>0</td>\n",
              "      <td>1</td>\n",
              "      <td>0</td>\n",
              "      <td>0</td>\n",
              "    </tr>\n",
              "    <tr>\n",
              "      <th>985258</th>\n",
              "      <td>-0.160072</td>\n",
              "      <td>-0.011296</td>\n",
              "      <td>-0.086951</td>\n",
              "      <td>-0.002665</td>\n",
              "      <td>-0.002235</td>\n",
              "      <td>-0.052816</td>\n",
              "      <td>-0.007462</td>\n",
              "      <td>0.638815</td>\n",
              "      <td>-0.004408</td>\n",
              "      <td>-0.01751</td>\n",
              "      <td>...</td>\n",
              "      <td>0</td>\n",
              "      <td>0</td>\n",
              "      <td>0</td>\n",
              "      <td>0</td>\n",
              "      <td>0</td>\n",
              "      <td>0</td>\n",
              "      <td>0</td>\n",
              "      <td>1</td>\n",
              "      <td>0</td>\n",
              "      <td>0</td>\n",
              "    </tr>\n",
              "    <tr>\n",
              "      <th>985259</th>\n",
              "      <td>-0.160072</td>\n",
              "      <td>-0.011305</td>\n",
              "      <td>0.012237</td>\n",
              "      <td>-0.002665</td>\n",
              "      <td>-0.002235</td>\n",
              "      <td>-0.052816</td>\n",
              "      <td>-0.007462</td>\n",
              "      <td>0.638815</td>\n",
              "      <td>-0.004408</td>\n",
              "      <td>-0.01751</td>\n",
              "      <td>...</td>\n",
              "      <td>0</td>\n",
              "      <td>0</td>\n",
              "      <td>0</td>\n",
              "      <td>0</td>\n",
              "      <td>0</td>\n",
              "      <td>0</td>\n",
              "      <td>0</td>\n",
              "      <td>1</td>\n",
              "      <td>0</td>\n",
              "      <td>0</td>\n",
              "    </tr>\n",
              "    <tr>\n",
              "      <th>985260</th>\n",
              "      <td>-0.160072</td>\n",
              "      <td>-0.011296</td>\n",
              "      <td>-0.057612</td>\n",
              "      <td>-0.002665</td>\n",
              "      <td>-0.002235</td>\n",
              "      <td>-0.052816</td>\n",
              "      <td>-0.007462</td>\n",
              "      <td>0.638815</td>\n",
              "      <td>-0.004408</td>\n",
              "      <td>-0.01751</td>\n",
              "      <td>...</td>\n",
              "      <td>0</td>\n",
              "      <td>0</td>\n",
              "      <td>0</td>\n",
              "      <td>0</td>\n",
              "      <td>0</td>\n",
              "      <td>0</td>\n",
              "      <td>0</td>\n",
              "      <td>1</td>\n",
              "      <td>0</td>\n",
              "      <td>0</td>\n",
              "    </tr>\n",
              "    <tr>\n",
              "      <th>985261</th>\n",
              "      <td>-0.160072</td>\n",
              "      <td>-0.011296</td>\n",
              "      <td>-0.061610</td>\n",
              "      <td>-0.002665</td>\n",
              "      <td>-0.002235</td>\n",
              "      <td>-0.052816</td>\n",
              "      <td>-0.007462</td>\n",
              "      <td>0.638815</td>\n",
              "      <td>-0.004408</td>\n",
              "      <td>-0.01751</td>\n",
              "      <td>...</td>\n",
              "      <td>0</td>\n",
              "      <td>0</td>\n",
              "      <td>0</td>\n",
              "      <td>0</td>\n",
              "      <td>0</td>\n",
              "      <td>0</td>\n",
              "      <td>0</td>\n",
              "      <td>1</td>\n",
              "      <td>0</td>\n",
              "      <td>0</td>\n",
              "    </tr>\n",
              "  </tbody>\n",
              "</table>\n",
              "<p>985262 rows × 84 columns</p>\n",
              "</div>\n",
              "      <button class=\"colab-df-convert\" onclick=\"convertToInteractive('df-2aab8b6f-d86c-4ca5-b419-ab2868a2273e')\"\n",
              "              title=\"Convert this dataframe to an interactive table.\"\n",
              "              style=\"display:none;\">\n",
              "        \n",
              "  <svg xmlns=\"http://www.w3.org/2000/svg\" height=\"24px\"viewBox=\"0 0 24 24\"\n",
              "       width=\"24px\">\n",
              "    <path d=\"M0 0h24v24H0V0z\" fill=\"none\"/>\n",
              "    <path d=\"M18.56 5.44l.94 2.06.94-2.06 2.06-.94-2.06-.94-.94-2.06-.94 2.06-2.06.94zm-11 1L8.5 8.5l.94-2.06 2.06-.94-2.06-.94L8.5 2.5l-.94 2.06-2.06.94zm10 10l.94 2.06.94-2.06 2.06-.94-2.06-.94-.94-2.06-.94 2.06-2.06.94z\"/><path d=\"M17.41 7.96l-1.37-1.37c-.4-.4-.92-.59-1.43-.59-.52 0-1.04.2-1.43.59L10.3 9.45l-7.72 7.72c-.78.78-.78 2.05 0 2.83L4 21.41c.39.39.9.59 1.41.59.51 0 1.02-.2 1.41-.59l7.78-7.78 2.81-2.81c.8-.78.8-2.07 0-2.86zM5.41 20L4 18.59l7.72-7.72 1.47 1.35L5.41 20z\"/>\n",
              "  </svg>\n",
              "      </button>\n",
              "      \n",
              "  <style>\n",
              "    .colab-df-container {\n",
              "      display:flex;\n",
              "      flex-wrap:wrap;\n",
              "      gap: 12px;\n",
              "    }\n",
              "\n",
              "    .colab-df-convert {\n",
              "      background-color: #E8F0FE;\n",
              "      border: none;\n",
              "      border-radius: 50%;\n",
              "      cursor: pointer;\n",
              "      display: none;\n",
              "      fill: #1967D2;\n",
              "      height: 32px;\n",
              "      padding: 0 0 0 0;\n",
              "      width: 32px;\n",
              "    }\n",
              "\n",
              "    .colab-df-convert:hover {\n",
              "      background-color: #E2EBFA;\n",
              "      box-shadow: 0px 1px 2px rgba(60, 64, 67, 0.3), 0px 1px 3px 1px rgba(60, 64, 67, 0.15);\n",
              "      fill: #174EA6;\n",
              "    }\n",
              "\n",
              "    [theme=dark] .colab-df-convert {\n",
              "      background-color: #3B4455;\n",
              "      fill: #D2E3FC;\n",
              "    }\n",
              "\n",
              "    [theme=dark] .colab-df-convert:hover {\n",
              "      background-color: #434B5C;\n",
              "      box-shadow: 0px 1px 3px 1px rgba(0, 0, 0, 0.15);\n",
              "      filter: drop-shadow(0px 1px 2px rgba(0, 0, 0, 0.3));\n",
              "      fill: #FFFFFF;\n",
              "    }\n",
              "  </style>\n",
              "\n",
              "      <script>\n",
              "        const buttonEl =\n",
              "          document.querySelector('#df-2aab8b6f-d86c-4ca5-b419-ab2868a2273e button.colab-df-convert');\n",
              "        buttonEl.style.display =\n",
              "          google.colab.kernel.accessAllowed ? 'block' : 'none';\n",
              "\n",
              "        async function convertToInteractive(key) {\n",
              "          const element = document.querySelector('#df-2aab8b6f-d86c-4ca5-b419-ab2868a2273e');\n",
              "          const dataTable =\n",
              "            await google.colab.kernel.invokeFunction('convertToInteractive',\n",
              "                                                     [key], {});\n",
              "          if (!dataTable) return;\n",
              "\n",
              "          const docLinkHtml = 'Like what you see? Visit the ' +\n",
              "            '<a target=\"_blank\" href=https://colab.research.google.com/notebooks/data_table.ipynb>data table notebook</a>'\n",
              "            + ' to learn more about interactive tables.';\n",
              "          element.innerHTML = '';\n",
              "          dataTable['output_type'] = 'display_data';\n",
              "          await google.colab.output.renderOutput(dataTable, element);\n",
              "          const docLink = document.createElement('div');\n",
              "          docLink.innerHTML = docLinkHtml;\n",
              "          element.appendChild(docLink);\n",
              "        }\n",
              "      </script>\n",
              "    </div>\n",
              "  </div>\n",
              "  "
            ]
          },
          "metadata": {},
          "execution_count": 14
        }
      ],
      "source": [
        "from sklearn.preprocessing import StandardScaler\n",
        "\n",
        "scaler = preprocessing.StandardScaler()\n",
        "scaler.fit(kddCupTrain[numeric_columns])\n",
        "\n",
        "kddCupTrain[numeric_columns] = scaler.transform(kddCupTrain[numeric_columns])\n",
        "kddCupTrain"
      ]
    },
    {
      "cell_type": "markdown",
      "metadata": {
        "id": "N_xcvm4tnThv"
      },
      "source": [
        "#### 1.5. Split the data into train and test subsets\n",
        "\n",
        "Use `sklearn.model_selection.train_test_split()` function. Reserve 20% of data for the test data. Do not forget to set the parameter `stratify` to keep the class size ratio within each of data sets."
      ]
    },
    {
      "cell_type": "code",
      "execution_count": null,
      "metadata": {
        "id": "FWPQSa_qnThv"
      },
      "outputs": [],
      "source": [
        "from sklearn.model_selection import train_test_split\n",
        "\n",
        "X_train_split, X_test_split = train_test_split(kddCupTrain, test_size=0.2,\n",
        "                                   stratify=kddCupTrain['Class'],\n",
        "                                   random_state=RANDOM_SEED)"
      ]
    },
    {
      "cell_type": "markdown",
      "metadata": {
        "id": "7zkExIeknThv"
      },
      "source": [
        "#### 1.6. Detach the labels from the train and the test datasets"
      ]
    },
    {
      "cell_type": "code",
      "execution_count": null,
      "metadata": {
        "colab": {
          "base_uri": "https://localhost:8080/"
        },
        "id": "m40WR0fDnThv",
        "outputId": "a2357751-8805-44e2-9be9-690c2f05122e"
      },
      "outputs": [
        {
          "output_type": "stream",
          "name": "stdout",
          "text": [
            "Train: shape X (788209, 83) , shape Y (788209,)\n",
            "Test: shape X (197053, 83) , shape Y (197053,)\n"
          ]
        }
      ],
      "source": [
        "y_train = X_train_split['Class']\n",
        "X_train = X_train_split.drop(['Class'], axis=1)\n",
        "\n",
        "y_test = X_test_split['Class']\n",
        "X_test = X_test_split.drop(['Class'], axis=1)\n",
        "print('Train: shape X',X_train.shape,', shape Y',y_train.shape)\n",
        "print('Test: shape X',X_test.shape,', shape Y',y_test.shape)"
      ]
    },
    {
      "cell_type": "markdown",
      "metadata": {
        "id": "vvDVqGNVnThv"
      },
      "source": [
        "#### 1.7. Separate the \"normal\" instances\n",
        "\n",
        "An autoencoder will be trained to reconstruct class \"normal\". Separate the \"normal\" instances in both `train` and `test` datasets."
      ]
    },
    {
      "cell_type": "code",
      "execution_count": null,
      "metadata": {
        "id": "tNEGpVk_nThv"
      },
      "outputs": [],
      "source": [
        "X_trainNorm = X_train[y_train == 0]\n",
        "X_trainNorm_val = X_trainNorm.values\n",
        "X_testNorm_val = X_test[y_test == 0].values"
      ]
    },
    {
      "cell_type": "code",
      "execution_count": null,
      "metadata": {
        "colab": {
          "base_uri": "https://localhost:8080/"
        },
        "id": "P6BORlCgnThv",
        "outputId": "7e18b474-be0c-4d35-9b9b-804b0c72c4d9"
      },
      "outputs": [
        {
          "output_type": "stream",
          "name": "stdout",
          "text": [
            "(788209,)\n",
            "(788209, 83)\n"
          ]
        },
        {
          "output_type": "execute_result",
          "data": {
            "text/plain": [
              "(778224, 83)"
            ]
          },
          "metadata": {},
          "execution_count": 18
        }
      ],
      "source": [
        "print(y_train.shape)\n",
        "print(X_train.shape)\n",
        "X_trainNorm_val.shape"
      ]
    },
    {
      "cell_type": "markdown",
      "metadata": {
        "id": "QKutWyN8nThw"
      },
      "source": [
        "### 2. Build the model\n",
        "\n",
        "Follow the steps of  `iLykei_DSBusinessIntelligence_CourseProject_FraudDetection.ipynb` to create similar model for this project.\n",
        "\n",
        "#### 2.1. select architecture of autoencoder\n",
        "\n",
        "Try different numbers and dimentions of layers. Use `BatchNormalization` and `Dropout` layers to achieve better results."
      ]
    },
    {
      "cell_type": "code",
      "execution_count": null,
      "metadata": {
        "id": "ZxPwWzjenThw"
      },
      "outputs": [],
      "source": [
        "import tensorflow as tf\n",
        "from tensorflow.keras.models import Model, load_model\n",
        "from tensorflow.keras.layers import Input, Dense, BatchNormalization, Dropout\n",
        "from tensorflow.keras.callbacks import ModelCheckpoint, EarlyStopping\n",
        "from tensorflow.keras import regularizers\n",
        "from tensorflow.keras.utils import plot_model"
      ]
    },
    {
      "cell_type": "code",
      "execution_count": null,
      "metadata": {
        "id": "0oEdBUUUnThw"
      },
      "outputs": [],
      "source": [
        "#Set parameters:\n",
        "input_dim = X_trainNorm_val.shape[1]\n",
        "layer1_dim = 14\n",
        "encoder_dim = 7"
      ]
    },
    {
      "cell_type": "code",
      "execution_count": null,
      "metadata": {
        "colab": {
          "base_uri": "https://localhost:8080/"
        },
        "id": "o65ja64mnThw",
        "outputId": "02744b35-3c60-4bcf-cab8-db67eedf5f22"
      },
      "outputs": [
        {
          "output_type": "stream",
          "name": "stdout",
          "text": [
            "input_layer:  KerasTensor(type_spec=TensorSpec(shape=(None, 83), dtype=tf.float32, name='input_1'), name='input_1', description=\"created by layer 'input_1'\")\n",
            "encoder1 KerasTensor(type_spec=TensorSpec(shape=(None, 14), dtype=tf.float32, name=None), name='dense/Tanh:0', description=\"created by layer 'dense'\")\n",
            "encoder2 KerasTensor(type_spec=TensorSpec(shape=(None, 7), dtype=tf.float32, name=None), name='dense_1/Relu:0', description=\"created by layer 'dense_1'\")\n",
            "decoder1 KerasTensor(type_spec=TensorSpec(shape=(None, 14), dtype=tf.float32, name=None), name='dense_2/Tanh:0', description=\"created by layer 'dense_2'\")\n",
            "decoder2 KerasTensor(type_spec=TensorSpec(shape=(None, 83), dtype=tf.float32, name=None), name='dense_3/BiasAdd:0', description=\"created by layer 'dense_3'\")\n"
          ]
        }
      ],
      "source": [
        "input_layer = Input(shape=(input_dim, ))\n",
        "\n",
        "encoder1 = Dense(layer1_dim, activation=\"tanh\",\n",
        "                activity_regularizer=regularizers.l1(10e-5))(input_layer)\n",
        "encoder2 = Dense(encoder_dim, activation=\"relu\")(encoder1)\n",
        "# encoder2 = BatchNormalization()(encoder2)\n",
        "# encoder2 = Dropout(0.2)(encoder2)\n",
        "decoder1 = Dense(layer1_dim, activation='tanh')(encoder2)\n",
        "decoder2 = Dense(input_dim, activation='linear')(decoder1)\n",
        "print('input_layer: ',input_layer)\n",
        "print('encoder1',encoder1)\n",
        "print('encoder2',encoder2)\n",
        "print('decoder1',decoder1)\n",
        "print('decoder2',decoder2)"
      ]
    },
    {
      "cell_type": "code",
      "execution_count": null,
      "metadata": {
        "colab": {
          "base_uri": "https://localhost:8080/"
        },
        "id": "rMBm0CuZnThw",
        "outputId": "c7fc453e-2b0a-497a-dbcd-4f8d76348f0e"
      },
      "outputs": [
        {
          "output_type": "stream",
          "name": "stdout",
          "text": [
            "Model: \"model\"\n",
            "_________________________________________________________________\n",
            " Layer (type)                Output Shape              Param #   \n",
            "=================================================================\n",
            " input_1 (InputLayer)        [(None, 83)]              0         \n",
            "                                                                 \n",
            " dense (Dense)               (None, 14)                1176      \n",
            "                                                                 \n",
            " dense_1 (Dense)             (None, 7)                 105       \n",
            "                                                                 \n",
            " dense_2 (Dense)             (None, 14)                112       \n",
            "                                                                 \n",
            " dense_3 (Dense)             (None, 83)                1245      \n",
            "                                                                 \n",
            "=================================================================\n",
            "Total params: 2,638\n",
            "Trainable params: 2,638\n",
            "Non-trainable params: 0\n",
            "_________________________________________________________________\n"
          ]
        }
      ],
      "source": [
        "autoencoder = Model(inputs=input_layer, outputs=decoder2)\n",
        "autoencoder.summary()"
      ]
    },
    {
      "cell_type": "markdown",
      "metadata": {
        "id": "JtglQNXSnThw"
      },
      "source": [
        "#### 2.2. Fit the model\n",
        "\n",
        "Fit autoencoder to the \"normal\" instances of the train dataset.\n",
        "Use `ModelCheckpoint` callback to save the best model to file:\n",
        "\n",
        "`checkpointer = ModelCheckpoint(filepath=\"autoencoder.h5\",\n",
        "                               verbose=0,\n",
        "                               save_best_only=True)`"
      ]
    },
    {
      "cell_type": "code",
      "execution_count": null,
      "metadata": {
        "colab": {
          "base_uri": "https://localhost:8080/"
        },
        "id": "t2AAmFNznThw",
        "outputId": "6253d87e-4f10-405f-c4d2-b1ea25825ec6"
      },
      "outputs": [
        {
          "output_type": "stream",
          "name": "stdout",
          "text": [
            "Epoch 1/100\n",
            "24320/24320 [==============================] - 56s 2ms/step - loss: 0.2121 - val_loss: 0.1993\n",
            "Epoch 2/100\n",
            "24320/24320 [==============================] - 61s 2ms/step - loss: 0.1832 - val_loss: 0.1887\n",
            "Epoch 3/100\n",
            "24320/24320 [==============================] - 65s 3ms/step - loss: 0.1750 - val_loss: 0.1844\n",
            "Epoch 4/100\n",
            "24320/24320 [==============================] - 59s 2ms/step - loss: 0.1717 - val_loss: 0.1825\n",
            "Epoch 5/100\n",
            "24320/24320 [==============================] - 60s 2ms/step - loss: 0.1698 - val_loss: 0.1820\n",
            "Epoch 6/100\n",
            "24320/24320 [==============================] - 63s 3ms/step - loss: 0.1687 - val_loss: 0.1802\n",
            "Epoch 7/100\n",
            "24320/24320 [==============================] - 59s 2ms/step - loss: 0.1678 - val_loss: 0.1798\n",
            "Epoch 8/100\n",
            "24320/24320 [==============================] - 59s 2ms/step - loss: 0.1672 - val_loss: 0.1833\n",
            "Epoch 9/100\n",
            "24320/24320 [==============================] - 59s 2ms/step - loss: 0.1664 - val_loss: 0.1780\n",
            "Epoch 10/100\n",
            "24320/24320 [==============================] - 58s 2ms/step - loss: 0.1657 - val_loss: 0.1780\n",
            "Epoch 11/100\n",
            "24320/24320 [==============================] - 60s 2ms/step - loss: 0.1652 - val_loss: 0.1795\n",
            "Epoch 12/100\n",
            "24320/24320 [==============================] - 56s 2ms/step - loss: 0.1647 - val_loss: 0.1791\n",
            "Epoch 13/100\n",
            "24320/24320 [==============================] - 56s 2ms/step - loss: 0.1641 - val_loss: 0.1775\n",
            "Epoch 14/100\n",
            "24320/24320 [==============================] - 59s 2ms/step - loss: 0.1634 - val_loss: 0.1770\n",
            "Epoch 15/100\n",
            "24320/24320 [==============================] - 59s 2ms/step - loss: 0.1625 - val_loss: 0.1755\n",
            "Epoch 16/100\n",
            "24320/24320 [==============================] - 57s 2ms/step - loss: 0.1615 - val_loss: 0.1750\n",
            "Epoch 17/100\n",
            "24320/24320 [==============================] - 55s 2ms/step - loss: 0.1603 - val_loss: 0.1747\n",
            "Epoch 18/100\n",
            "24320/24320 [==============================] - 60s 2ms/step - loss: 0.1588 - val_loss: 0.1741\n",
            "Epoch 19/100\n",
            "24320/24320 [==============================] - 56s 2ms/step - loss: 0.1579 - val_loss: 0.1739\n",
            "Epoch 20/100\n",
            "24320/24320 [==============================] - 54s 2ms/step - loss: 0.1567 - val_loss: 0.1739\n",
            "Epoch 21/100\n",
            "24320/24320 [==============================] - 58s 2ms/step - loss: 0.1557 - val_loss: 0.1734\n",
            "Epoch 22/100\n",
            "24320/24320 [==============================] - 58s 2ms/step - loss: 0.1551 - val_loss: 0.1732\n",
            "Epoch 23/100\n",
            "24320/24320 [==============================] - 56s 2ms/step - loss: 0.1542 - val_loss: 0.1728\n",
            "Epoch 24/100\n",
            "24320/24320 [==============================] - 58s 2ms/step - loss: 0.1535 - val_loss: 0.1724\n",
            "Epoch 25/100\n",
            "24320/24320 [==============================] - 55s 2ms/step - loss: 0.1534 - val_loss: 0.1729\n",
            "Epoch 26/100\n",
            "24320/24320 [==============================] - 58s 2ms/step - loss: 0.1528 - val_loss: 0.1751\n",
            "Epoch 27/100\n",
            "24320/24320 [==============================] - 57s 2ms/step - loss: 0.1525 - val_loss: 0.1712\n",
            "Epoch 28/100\n",
            "24320/24320 [==============================] - 58s 2ms/step - loss: 0.1519 - val_loss: 0.1720\n",
            "Epoch 29/100\n",
            "24320/24320 [==============================] - 53s 2ms/step - loss: 0.1517 - val_loss: 0.1710\n",
            "Epoch 30/100\n",
            "24320/24320 [==============================] - 60s 2ms/step - loss: 0.1514 - val_loss: 0.1706\n",
            "Epoch 31/100\n",
            "24320/24320 [==============================] - 57s 2ms/step - loss: 0.1510 - val_loss: 0.1721\n",
            "Epoch 32/100\n",
            "24320/24320 [==============================] - 58s 2ms/step - loss: 0.1511 - val_loss: 0.1727\n",
            "Epoch 33/100\n",
            "24320/24320 [==============================] - 57s 2ms/step - loss: 0.1507 - val_loss: 0.1713\n"
          ]
        }
      ],
      "source": [
        "nb_epoch = 100\n",
        "batch_size = 32\n",
        "\n",
        "autoencoder.compile(optimizer='adam',\n",
        "                    loss='mean_squared_error')\n",
        "\n",
        "checkpointer = ModelCheckpoint(filepath=\"autoencoder.h5\", verbose=0, save_best_only=True)\n",
        "earlystopping = EarlyStopping(monitor='val_loss', patience=3, verbose=0) # 'patience' number of not improving epochs\n",
        "history = autoencoder.fit(X_trainNorm_val, X_trainNorm_val,\n",
        "                    epochs=nb_epoch,\n",
        "                    batch_size=batch_size,\n",
        "                    shuffle=True,\n",
        "                    validation_data=(X_testNorm_val, X_testNorm_val),\n",
        "                    verbose=1,\n",
        "                    callbacks=[checkpointer, #tensorboard,\n",
        "                               earlystopping]).history"
      ]
    },
    {
      "cell_type": "markdown",
      "metadata": {
        "id": "TMFkHI5AnThw"
      },
      "source": [
        "### 3. Evaluation\n",
        "\n",
        "#### 3.1. Load the fitted autoencoder from file `\"autoencoder.h5\"`."
      ]
    },
    {
      "cell_type": "code",
      "execution_count": null,
      "metadata": {
        "id": "48r7Oj-FnThw"
      },
      "outputs": [],
      "source": [
        "autoencoder = load_model('autoencoder.h5')"
      ]
    },
    {
      "cell_type": "markdown",
      "metadata": {
        "id": "WpOxfxMmnThw"
      },
      "source": [
        "#### 3.2.  Reconstruction\n",
        "\n",
        "Reconstruct the **test** dataset using the fitted autoencoder, calculate the **mean squared error** of the prediction."
      ]
    },
    {
      "cell_type": "code",
      "execution_count": null,
      "metadata": {
        "colab": {
          "base_uri": "https://localhost:8080/"
        },
        "id": "wHPfRI9enTh4",
        "outputId": "be0d6619-88c9-4e92-8ff5-2856c21b4d36"
      },
      "outputs": [
        {
          "output_type": "stream",
          "name": "stdout",
          "text": [
            "6158/6158 [==============================] - 9s 1ms/step\n"
          ]
        },
        {
          "output_type": "execute_result",
          "data": {
            "text/plain": [
              "((197053, 83), (197053, 83))"
            ]
          },
          "metadata": {},
          "execution_count": 25
        }
      ],
      "source": [
        "testPredictions = autoencoder.predict(X_test)\n",
        "X_test.shape,testPredictions.shape"
      ]
    },
    {
      "cell_type": "code",
      "execution_count": null,
      "metadata": {
        "id": "cD9n9sXunTh4"
      },
      "outputs": [],
      "source": [
        "from sklearn.metrics import mean_squared_error"
      ]
    },
    {
      "cell_type": "code",
      "execution_count": null,
      "metadata": {
        "colab": {
          "base_uri": "https://localhost:8080/",
          "height": 206
        },
        "id": "UcRHTRVPnTh5",
        "outputId": "201ff035-a92c-4124-bc32-62739ef03568"
      },
      "outputs": [
        {
          "output_type": "execute_result",
          "data": {
            "text/plain": [
              "        reconstruction_error  true_class\n",
              "940543              0.131579           1\n",
              "356110              0.059699           0\n",
              "540178              0.001855           0\n",
              "672514              0.005898           0\n",
              "244980              0.002207           0"
            ],
            "text/html": [
              "\n",
              "  <div id=\"df-94f5d271-0cd0-48ad-bc97-71b1ba376b56\">\n",
              "    <div class=\"colab-df-container\">\n",
              "      <div>\n",
              "<style scoped>\n",
              "    .dataframe tbody tr th:only-of-type {\n",
              "        vertical-align: middle;\n",
              "    }\n",
              "\n",
              "    .dataframe tbody tr th {\n",
              "        vertical-align: top;\n",
              "    }\n",
              "\n",
              "    .dataframe thead th {\n",
              "        text-align: right;\n",
              "    }\n",
              "</style>\n",
              "<table border=\"1\" class=\"dataframe\">\n",
              "  <thead>\n",
              "    <tr style=\"text-align: right;\">\n",
              "      <th></th>\n",
              "      <th>reconstruction_error</th>\n",
              "      <th>true_class</th>\n",
              "    </tr>\n",
              "  </thead>\n",
              "  <tbody>\n",
              "    <tr>\n",
              "      <th>940543</th>\n",
              "      <td>0.131579</td>\n",
              "      <td>1</td>\n",
              "    </tr>\n",
              "    <tr>\n",
              "      <th>356110</th>\n",
              "      <td>0.059699</td>\n",
              "      <td>0</td>\n",
              "    </tr>\n",
              "    <tr>\n",
              "      <th>540178</th>\n",
              "      <td>0.001855</td>\n",
              "      <td>0</td>\n",
              "    </tr>\n",
              "    <tr>\n",
              "      <th>672514</th>\n",
              "      <td>0.005898</td>\n",
              "      <td>0</td>\n",
              "    </tr>\n",
              "    <tr>\n",
              "      <th>244980</th>\n",
              "      <td>0.002207</td>\n",
              "      <td>0</td>\n",
              "    </tr>\n",
              "  </tbody>\n",
              "</table>\n",
              "</div>\n",
              "      <button class=\"colab-df-convert\" onclick=\"convertToInteractive('df-94f5d271-0cd0-48ad-bc97-71b1ba376b56')\"\n",
              "              title=\"Convert this dataframe to an interactive table.\"\n",
              "              style=\"display:none;\">\n",
              "        \n",
              "  <svg xmlns=\"http://www.w3.org/2000/svg\" height=\"24px\"viewBox=\"0 0 24 24\"\n",
              "       width=\"24px\">\n",
              "    <path d=\"M0 0h24v24H0V0z\" fill=\"none\"/>\n",
              "    <path d=\"M18.56 5.44l.94 2.06.94-2.06 2.06-.94-2.06-.94-.94-2.06-.94 2.06-2.06.94zm-11 1L8.5 8.5l.94-2.06 2.06-.94-2.06-.94L8.5 2.5l-.94 2.06-2.06.94zm10 10l.94 2.06.94-2.06 2.06-.94-2.06-.94-.94-2.06-.94 2.06-2.06.94z\"/><path d=\"M17.41 7.96l-1.37-1.37c-.4-.4-.92-.59-1.43-.59-.52 0-1.04.2-1.43.59L10.3 9.45l-7.72 7.72c-.78.78-.78 2.05 0 2.83L4 21.41c.39.39.9.59 1.41.59.51 0 1.02-.2 1.41-.59l7.78-7.78 2.81-2.81c.8-.78.8-2.07 0-2.86zM5.41 20L4 18.59l7.72-7.72 1.47 1.35L5.41 20z\"/>\n",
              "  </svg>\n",
              "      </button>\n",
              "      \n",
              "  <style>\n",
              "    .colab-df-container {\n",
              "      display:flex;\n",
              "      flex-wrap:wrap;\n",
              "      gap: 12px;\n",
              "    }\n",
              "\n",
              "    .colab-df-convert {\n",
              "      background-color: #E8F0FE;\n",
              "      border: none;\n",
              "      border-radius: 50%;\n",
              "      cursor: pointer;\n",
              "      display: none;\n",
              "      fill: #1967D2;\n",
              "      height: 32px;\n",
              "      padding: 0 0 0 0;\n",
              "      width: 32px;\n",
              "    }\n",
              "\n",
              "    .colab-df-convert:hover {\n",
              "      background-color: #E2EBFA;\n",
              "      box-shadow: 0px 1px 2px rgba(60, 64, 67, 0.3), 0px 1px 3px 1px rgba(60, 64, 67, 0.15);\n",
              "      fill: #174EA6;\n",
              "    }\n",
              "\n",
              "    [theme=dark] .colab-df-convert {\n",
              "      background-color: #3B4455;\n",
              "      fill: #D2E3FC;\n",
              "    }\n",
              "\n",
              "    [theme=dark] .colab-df-convert:hover {\n",
              "      background-color: #434B5C;\n",
              "      box-shadow: 0px 1px 3px 1px rgba(0, 0, 0, 0.15);\n",
              "      filter: drop-shadow(0px 1px 2px rgba(0, 0, 0, 0.3));\n",
              "      fill: #FFFFFF;\n",
              "    }\n",
              "  </style>\n",
              "\n",
              "      <script>\n",
              "        const buttonEl =\n",
              "          document.querySelector('#df-94f5d271-0cd0-48ad-bc97-71b1ba376b56 button.colab-df-convert');\n",
              "        buttonEl.style.display =\n",
              "          google.colab.kernel.accessAllowed ? 'block' : 'none';\n",
              "\n",
              "        async function convertToInteractive(key) {\n",
              "          const element = document.querySelector('#df-94f5d271-0cd0-48ad-bc97-71b1ba376b56');\n",
              "          const dataTable =\n",
              "            await google.colab.kernel.invokeFunction('convertToInteractive',\n",
              "                                                     [key], {});\n",
              "          if (!dataTable) return;\n",
              "\n",
              "          const docLinkHtml = 'Like what you see? Visit the ' +\n",
              "            '<a target=\"_blank\" href=https://colab.research.google.com/notebooks/data_table.ipynb>data table notebook</a>'\n",
              "            + ' to learn more about interactive tables.';\n",
              "          element.innerHTML = '';\n",
              "          dataTable['output_type'] = 'display_data';\n",
              "          await google.colab.output.renderOutput(dataTable, element);\n",
              "          const docLink = document.createElement('div');\n",
              "          docLink.innerHTML = docLinkHtml;\n",
              "          element.appendChild(docLink);\n",
              "        }\n",
              "      </script>\n",
              "    </div>\n",
              "  </div>\n",
              "  "
            ]
          },
          "metadata": {},
          "execution_count": 27
        }
      ],
      "source": [
        "testMSE = mean_squared_error(X_test.transpose(), testPredictions.transpose(),\n",
        "                              multioutput='raw_values')\n",
        "error_df = pd.DataFrame({'reconstruction_error': testMSE,'true_class': y_test})\n",
        "error_df.head()"
      ]
    },
    {
      "cell_type": "code",
      "execution_count": null,
      "metadata": {
        "id": "BCQLIPCenTh5"
      },
      "outputs": [],
      "source": [
        "from sklearn.metrics import (confusion_matrix, auc, roc_curve, cohen_kappa_score, accuracy_score)\n",
        "import matplotlib.pyplot as plt"
      ]
    },
    {
      "cell_type": "code",
      "execution_count": null,
      "metadata": {
        "colab": {
          "base_uri": "https://localhost:8080/",
          "height": 472
        },
        "id": "IGfwcZxanTh5",
        "outputId": "845c7228-c894-445b-d451-7c09a04a8ee1"
      },
      "outputs": [
        {
          "output_type": "display_data",
          "data": {
            "text/plain": [
              "<Figure size 640x480 with 1 Axes>"
            ],
            "image/png": "[encoded data removed]"
          },
          "metadata": {}
        }
      ],
      "source": [
        "fpr, tpr, thresholds = roc_curve(error_df.true_class, error_df.reconstruction_error)\n",
        "roc_auc = auc(fpr, tpr)\n",
        "\n",
        "plt.title('Receiver Operating Characteristic')\n",
        "plt.plot(fpr, tpr, label='AUC = %0.4f'% roc_auc)\n",
        "plt.legend(loc='lower right')\n",
        "plt.plot([0,1],[0,1],'r--')\n",
        "plt.xlim([-0.001, 1])\n",
        "plt.ylim([0, 1.001])\n",
        "plt.ylabel('True Positive Rate')\n",
        "plt.xlabel('False Positive Rate')\n",
        "plt.show()"
      ]
    },
    {
      "cell_type": "markdown",
      "metadata": {
        "id": "2a77vjpOnTh5"
      },
      "source": [
        "#### 3.3. Evaluate\n",
        "\n",
        "Calculate MSE of each observation by averaging squared errors of reconstruction of all features in a row.\n",
        "\n",
        "Calculate ROC and AUC. Select appropriate quantile and calculate Accuracy and Cohen's Kappa.\n",
        "\n",
        "Tune parameters of autoencoder to achieve better results (see Section 2.1.). Try to make AUC = 0.97 or better to get a good score."
      ]
    },
    {
      "cell_type": "markdown",
      "metadata": {
        "id": "roZrDYbbnTh5"
      },
      "source": [
        "### 4.Create submission\n",
        "\n",
        "#### 4.1. Read test data\n",
        "\n",
        "Read the **test** dataset from ['kddCupTest.csv'](kddCupTest.csv) and check it for missing values."
      ]
    },
    {
      "cell_type": "code",
      "execution_count": null,
      "metadata": {
        "id": "An56eV63nTh5"
      },
      "outputs": [],
      "source": [
        "featuresList = [str(item) for item in featuresList]"
      ]
    },
    {
      "cell_type": "code",
      "execution_count": null,
      "metadata": {
        "colab": {
          "base_uri": "https://localhost:8080/"
        },
        "id": "y_DkvogQnTh5",
        "outputId": "d80aeab5-c06a-4450-ab00-86f84ee19b6d"
      },
      "outputs": [
        {
          "output_type": "stream",
          "name": "stdout",
          "text": [
            "   0    1        2   3     4      5   6   7   8   9   ...   31   32    33  \\\n",
            "0   0  tcp     http  SF   230  10066   0   0   0   0  ...  255  255  1.00   \n",
            "1   0  udp  private  SF   105    145   0   0   0   0  ...  255  227  0.89   \n",
            "2   1  tcp     smtp  SF  1888    374   0   0   0   0  ...  255  174  0.68   \n",
            "\n",
            "     34   35   36   37   38   39   40  \n",
            "0  0.00  0.0  0.0  0.0  0.0  0.0  0.0  \n",
            "1  0.01  0.0  0.0  0.0  0.0  0.0  0.0  \n",
            "2  0.03  0.0  0.0  0.0  0.0  0.0  0.0  \n",
            "\n",
            "[3 rows x 41 columns]\n"
          ]
        }
      ],
      "source": [
        "kddCupTest = pd.read_csv('/content/kddCupTest.csv', header=None)\n",
        "print(kddCupTest.head(3))"
      ]
    },
    {
      "cell_type": "code",
      "execution_count": null,
      "metadata": {
        "colab": {
          "base_uri": "https://localhost:8080/"
        },
        "id": "wUbJE0HrnTh5",
        "outputId": "8a5462bd-cdf9-4ffe-e48a-ebbd9ac79cfb"
      },
      "outputs": [
        {
          "output_type": "stream",
          "name": "stdout",
          "text": [
            "   0    1        2   3     4      5   6   8   9   10  ...   31   32    33  \\\n",
            "0   0  tcp     http  SF   230  10066   0   0   0   0  ...  255  255  1.00   \n",
            "1   0  udp  private  SF   105    145   0   0   0   0  ...  255  227  0.89   \n",
            "2   1  tcp     smtp  SF  1888    374   0   0   0   0  ...  255  174  0.68   \n",
            "\n",
            "     34   35   36   37   38   39   40  \n",
            "0  0.00  0.0  0.0  0.0  0.0  0.0  0.0  \n",
            "1  0.01  0.0  0.0  0.0  0.0  0.0  0.0  \n",
            "2  0.03  0.0  0.0  0.0  0.0  0.0  0.0  \n",
            "\n",
            "[3 rows x 39 columns]\n"
          ]
        }
      ],
      "source": [
        "kddCupTest.drop(columnsList, axis=1, inplace=True)\n",
        "print(kddCupTest.head(3))"
      ]
    },
    {
      "cell_type": "markdown",
      "metadata": {
        "id": "PZFs3wHRnTh6"
      },
      "source": [
        "Notice that there are no lables in the test dataset. The features columns are the same.\n",
        "\n",
        "#### 4.2. Do \"One hot\" transformation of categorical features\n",
        "\n",
        "Don't forget to make the features list exactly the same as in the **train** dataset."
      ]
    },
    {
      "cell_type": "code",
      "execution_count": null,
      "metadata": {
        "id": "tR0PsP6tnTh6"
      },
      "outputs": [],
      "source": [
        "def add_missing_dummy_columns( d, columns ):\n",
        "    missing_cols = set( columns ) - set( d.columns )\n",
        "    for c in missing_cols:\n",
        "        d[c] = 0"
      ]
    },
    {
      "cell_type": "code",
      "execution_count": null,
      "metadata": {
        "id": "Q_4JdSjtnTh6"
      },
      "outputs": [],
      "source": [
        "def fix_columns( d, columns ):\n",
        "\n",
        "    add_missing_dummy_columns( d, columns )\n",
        "\n",
        "    # make sure we have all the columns we need\n",
        "    assert( set( columns ) - set( d.columns ) == set())\n",
        "\n",
        "    extra_cols = set( d.columns ) - set( columns )\n",
        "    if extra_cols:\n",
        "        print(\"extra columns:\", extra_cols)\n",
        "\n",
        "    d = d[ columns ]\n",
        "    return d"
      ]
    },
    {
      "cell_type": "code",
      "execution_count": null,
      "metadata": {
        "colab": {
          "base_uri": "https://localhost:8080/"
        },
        "id": "aDpCY6C0nTh6",
        "outputId": "90088901-fc5a-4eed-e91c-83bf3ba8936a"
      },
      "outputs": [
        {
          "output_type": "execute_result",
          "data": {
            "text/plain": [
              "106"
            ]
          },
          "metadata": {},
          "execution_count": 35
        }
      ],
      "source": [
        "kddCupTest = pd.get_dummies(kddCupTest, columns = filtered_columns)\n",
        "\n",
        "len(kddCupTest.columns)"
      ]
    },
    {
      "cell_type": "code",
      "execution_count": null,
      "metadata": {
        "id": "7xj03wVAnTh8"
      },
      "outputs": [],
      "source": [
        "kddCupTest.columns = kddCupTest.columns.astype(str)"
      ]
    },
    {
      "cell_type": "code",
      "execution_count": null,
      "metadata": {
        "colab": {
          "base_uri": "https://localhost:8080/"
        },
        "id": "bVq-Gd9JnTh8",
        "outputId": "c59265f0-f5bd-4083-975d-e767c938a8d5"
      },
      "outputs": [
        {
          "output_type": "execute_result",
          "data": {
            "text/plain": [
              "108"
            ]
          },
          "metadata": {},
          "execution_count": 37
        }
      ],
      "source": [
        "add_missing_dummy_columns(kddCupTest,featuresList)\n",
        "\n",
        "len(kddCupTest.columns)"
      ]
    },
    {
      "cell_type": "code",
      "execution_count": null,
      "metadata": {
        "colab": {
          "base_uri": "https://localhost:8080/"
        },
        "id": "r08NvZtfnTh8",
        "outputId": "69a74eb6-a79a-48f3-a69b-dcf4acad90d8"
      },
      "outputs": [
        {
          "output_type": "stream",
          "name": "stdout",
          "text": [
            "extra columns: {'2_Z39_50', '2_netbios_ns', '2_hostnames', '2_csnet_ns', '2_systat', '2_harvest', '2_daytime', '2_netstat', '2_supdup', '2_uucp', '2_nntp', '2_echo', '2_netbios_ssn', '2_netbios_dgm', '2_sql_net', '2_pm_dump', '2_printer', '2_sunrpc', '2_discard', '2_iso_tsap', '2_bgp', '2_http_2784', '2_uucp_path', '2_vmnet', '2_pop_2'}\n"
          ]
        },
        {
          "output_type": "execute_result",
          "data": {
            "text/plain": [
              "83"
            ]
          },
          "metadata": {},
          "execution_count": 38
        }
      ],
      "source": [
        "kddCupTest = fix_columns(kddCupTest,featuresList)\n",
        "\n",
        "len(kddCupTest.columns)"
      ]
    },
    {
      "cell_type": "markdown",
      "metadata": {
        "id": "kWHBv13EnTh9"
      },
      "source": [
        "#### 4.3. Standardize the test dataset\n",
        "\n",
        "Use the scaler fitted to the training dataset."
      ]
    },
    {
      "cell_type": "code",
      "execution_count": null,
      "metadata": {
        "colab": {
          "base_uri": "https://localhost:8080/",
          "height": 487
        },
        "id": "Bxi7oyRJnTh9",
        "outputId": "2d5391b7-fa61-443d-cfbe-0463479de59c"
      },
      "outputs": [
        {
          "output_type": "execute_result",
          "data": {
            "text/plain": [
              "               0         4         5         6         8         9        10  \\\n",
              "0      -0.160072 -0.011196  0.202030 -0.002665 -0.002235 -0.052816 -0.007462   \n",
              "1      -0.160072 -0.012334 -0.089626 -0.002665 -0.002235 -0.052816 -0.007462   \n",
              "2      -0.159328  0.003905 -0.082894 -0.002665 -0.002235 -0.052816 -0.007462   \n",
              "3      -0.160072 -0.010285 -0.050468 -0.002665 -0.002235 -0.052816 -0.007462   \n",
              "4       1.793586 -0.011961 -0.090802 -0.002665 -0.002235 -0.052816 -0.007462   \n",
              "...          ...       ...       ...       ...       ...       ...       ...   \n",
              "196552 -0.160072 -0.013290 -0.093889 -0.002665 -0.002235 -0.052816 -0.007462   \n",
              "196553 -0.160072 -0.011961  0.068740 -0.002665 -0.002235 -0.052816 -0.007462   \n",
              "196554 -0.160072 -0.012334 -0.089597 -0.002665 -0.002235 -0.052816 -0.007462   \n",
              "196555 -0.160072 -0.010859  0.332262 -0.002665 -0.002235 -0.052816 -0.007462   \n",
              "196556 -0.160072 -0.010349 -0.071252 -0.002665 -0.002235 -0.052816 -0.007462   \n",
              "\n",
              "              11        12       13  ...  3_OTH  3_REJ  3_RSTO  3_RSTR  3_S0  \\\n",
              "0       0.638815 -0.004408 -0.01751  ...      0      0       0       0     0   \n",
              "1      -1.565399 -0.004408 -0.01751  ...      0      0       0       0     0   \n",
              "2       0.638815 -0.004408 -0.01751  ...      0      0       0       0     0   \n",
              "3       0.638815 -0.004408 -0.01751  ...      0      0       0       0     0   \n",
              "4      -1.565399 -0.004408 -0.01751  ...      0      0       0       0     0   \n",
              "...          ...       ...      ...  ...    ...    ...     ...     ...   ...   \n",
              "196552 -1.565399 -0.004408 -0.01751  ...      0      1       0       0     0   \n",
              "196553  0.638815 -0.004408 -0.01751  ...      0      0       0       0     0   \n",
              "196554 -1.565399 -0.004408 -0.01751  ...      0      0       0       0     0   \n",
              "196555  0.638815 -0.004408 -0.01751  ...      0      0       0       0     0   \n",
              "196556  0.638815 -0.004408 -0.01751  ...      0      0       0       0     0   \n",
              "\n",
              "        3_S1  3_S2  3_S3  3_SF  3_SH  \n",
              "0          0     0     0     1     0  \n",
              "1          0     0     0     1     0  \n",
              "2          0     0     0     1     0  \n",
              "3          0     0     0     1     0  \n",
              "4          0     0     0     1     0  \n",
              "...      ...   ...   ...   ...   ...  \n",
              "196552     0     0     0     0     0  \n",
              "196553     0     0     0     1     0  \n",
              "196554     0     0     0     1     0  \n",
              "196555     0     0     0     1     0  \n",
              "196556     0     0     0     1     0  \n",
              "\n",
              "[196557 rows x 83 columns]"
            ],
            "text/html": [
              "\n",
              "  <div id=\"df-f8783536-7d80-4a56-b45a-9bcf32a191d0\">\n",
              "    <div class=\"colab-df-container\">\n",
              "      <div>\n",
              "<style scoped>\n",
              "    .dataframe tbody tr th:only-of-type {\n",
              "        vertical-align: middle;\n",
              "    }\n",
              "\n",
              "    .dataframe tbody tr th {\n",
              "        vertical-align: top;\n",
              "    }\n",
              "\n",
              "    .dataframe thead th {\n",
              "        text-align: right;\n",
              "    }\n",
              "</style>\n",
              "<table border=\"1\" class=\"dataframe\">\n",
              "  <thead>\n",
              "    <tr style=\"text-align: right;\">\n",
              "      <th></th>\n",
              "      <th>0</th>\n",
              "      <th>4</th>\n",
              "      <th>5</th>\n",
              "      <th>6</th>\n",
              "      <th>8</th>\n",
              "      <th>9</th>\n",
              "      <th>10</th>\n",
              "      <th>11</th>\n",
              "      <th>12</th>\n",
              "      <th>13</th>\n",
              "      <th>...</th>\n",
              "      <th>3_OTH</th>\n",
              "      <th>3_REJ</th>\n",
              "      <th>3_RSTO</th>\n",
              "      <th>3_RSTR</th>\n",
              "      <th>3_S0</th>\n",
              "      <th>3_S1</th>\n",
              "      <th>3_S2</th>\n",
              "      <th>3_S3</th>\n",
              "      <th>3_SF</th>\n",
              "      <th>3_SH</th>\n",
              "    </tr>\n",
              "  </thead>\n",
              "  <tbody>\n",
              "    <tr>\n",
              "      <th>0</th>\n",
              "      <td>-0.160072</td>\n",
              "      <td>-0.011196</td>\n",
              "      <td>0.202030</td>\n",
              "      <td>-0.002665</td>\n",
              "      <td>-0.002235</td>\n",
              "      <td>-0.052816</td>\n",
              "      <td>-0.007462</td>\n",
              "      <td>0.638815</td>\n",
              "      <td>-0.004408</td>\n",
              "      <td>-0.01751</td>\n",
              "      <td>...</td>\n",
              "      <td>0</td>\n",
              "      <td>0</td>\n",
              "      <td>0</td>\n",
              "      <td>0</td>\n",
              "      <td>0</td>\n",
              "      <td>0</td>\n",
              "      <td>0</td>\n",
              "      <td>0</td>\n",
              "      <td>1</td>\n",
              "      <td>0</td>\n",
              "    </tr>\n",
              "    <tr>\n",
              "      <th>1</th>\n",
              "      <td>-0.160072</td>\n",
              "      <td>-0.012334</td>\n",
              "      <td>-0.089626</td>\n",
              "      <td>-0.002665</td>\n",
              "      <td>-0.002235</td>\n",
              "      <td>-0.052816</td>\n",
              "      <td>-0.007462</td>\n",
              "      <td>-1.565399</td>\n",
              "      <td>-0.004408</td>\n",
              "      <td>-0.01751</td>\n",
              "      <td>...</td>\n",
              "      <td>0</td>\n",
              "      <td>0</td>\n",
              "      <td>0</td>\n",
              "      <td>0</td>\n",
              "      <td>0</td>\n",
              "      <td>0</td>\n",
              "      <td>0</td>\n",
              "      <td>0</td>\n",
              "      <td>1</td>\n",
              "      <td>0</td>\n",
              "    </tr>\n",
              "    <tr>\n",
              "      <th>2</th>\n",
              "      <td>-0.159328</td>\n",
              "      <td>0.003905</td>\n",
              "      <td>-0.082894</td>\n",
              "      <td>-0.002665</td>\n",
              "      <td>-0.002235</td>\n",
              "      <td>-0.052816</td>\n",
              "      <td>-0.007462</td>\n",
              "      <td>0.638815</td>\n",
              "      <td>-0.004408</td>\n",
              "      <td>-0.01751</td>\n",
              "      <td>...</td>\n",
              "      <td>0</td>\n",
              "      <td>0</td>\n",
              "      <td>0</td>\n",
              "      <td>0</td>\n",
              "      <td>0</td>\n",
              "      <td>0</td>\n",
              "      <td>0</td>\n",
              "      <td>0</td>\n",
              "      <td>1</td>\n",
              "      <td>0</td>\n",
              "    </tr>\n",
              "    <tr>\n",
              "      <th>3</th>\n",
              "      <td>-0.160072</td>\n",
              "      <td>-0.010285</td>\n",
              "      <td>-0.050468</td>\n",
              "      <td>-0.002665</td>\n",
              "      <td>-0.002235</td>\n",
              "      <td>-0.052816</td>\n",
              "      <td>-0.007462</td>\n",
              "      <td>0.638815</td>\n",
              "      <td>-0.004408</td>\n",
              "      <td>-0.01751</td>\n",
              "      <td>...</td>\n",
              "      <td>0</td>\n",
              "      <td>0</td>\n",
              "      <td>0</td>\n",
              "      <td>0</td>\n",
              "      <td>0</td>\n",
              "      <td>0</td>\n",
              "      <td>0</td>\n",
              "      <td>0</td>\n",
              "      <td>1</td>\n",
              "      <td>0</td>\n",
              "    </tr>\n",
              "    <tr>\n",
              "      <th>4</th>\n",
              "      <td>1.793586</td>\n",
              "      <td>-0.011961</td>\n",
              "      <td>-0.090802</td>\n",
              "      <td>-0.002665</td>\n",
              "      <td>-0.002235</td>\n",
              "      <td>-0.052816</td>\n",
              "      <td>-0.007462</td>\n",
              "      <td>-1.565399</td>\n",
              "      <td>-0.004408</td>\n",
              "      <td>-0.01751</td>\n",
              "      <td>...</td>\n",
              "      <td>0</td>\n",
              "      <td>0</td>\n",
              "      <td>0</td>\n",
              "      <td>0</td>\n",
              "      <td>0</td>\n",
              "      <td>0</td>\n",
              "      <td>0</td>\n",
              "      <td>0</td>\n",
              "      <td>1</td>\n",
              "      <td>0</td>\n",
              "    </tr>\n",
              "    <tr>\n",
              "      <th>...</th>\n",
              "      <td>...</td>\n",
              "      <td>...</td>\n",
              "      <td>...</td>\n",
              "      <td>...</td>\n",
              "      <td>...</td>\n",
              "      <td>...</td>\n",
              "      <td>...</td>\n",
              "      <td>...</td>\n",
              "      <td>...</td>\n",
              "      <td>...</td>\n",
              "      <td>...</td>\n",
              "      <td>...</td>\n",
              "      <td>...</td>\n",
              "      <td>...</td>\n",
              "      <td>...</td>\n",
              "      <td>...</td>\n",
              "      <td>...</td>\n",
              "      <td>...</td>\n",
              "      <td>...</td>\n",
              "      <td>...</td>\n",
              "      <td>...</td>\n",
              "    </tr>\n",
              "    <tr>\n",
              "      <th>196552</th>\n",
              "      <td>-0.160072</td>\n",
              "      <td>-0.013290</td>\n",
              "      <td>-0.093889</td>\n",
              "      <td>-0.002665</td>\n",
              "      <td>-0.002235</td>\n",
              "      <td>-0.052816</td>\n",
              "      <td>-0.007462</td>\n",
              "      <td>-1.565399</td>\n",
              "      <td>-0.004408</td>\n",
              "      <td>-0.01751</td>\n",
              "      <td>...</td>\n",
              "      <td>0</td>\n",
              "      <td>1</td>\n",
              "      <td>0</td>\n",
              "      <td>0</td>\n",
              "      <td>0</td>\n",
              "      <td>0</td>\n",
              "      <td>0</td>\n",
              "      <td>0</td>\n",
              "      <td>0</td>\n",
              "      <td>0</td>\n",
              "    </tr>\n",
              "    <tr>\n",
              "      <th>196553</th>\n",
              "      <td>-0.160072</td>\n",
              "      <td>-0.011961</td>\n",
              "      <td>0.068740</td>\n",
              "      <td>-0.002665</td>\n",
              "      <td>-0.002235</td>\n",
              "      <td>-0.052816</td>\n",
              "      <td>-0.007462</td>\n",
              "      <td>0.638815</td>\n",
              "      <td>-0.004408</td>\n",
              "      <td>-0.01751</td>\n",
              "      <td>...</td>\n",
              "      <td>0</td>\n",
              "      <td>0</td>\n",
              "      <td>0</td>\n",
              "      <td>0</td>\n",
              "      <td>0</td>\n",
              "      <td>0</td>\n",
              "      <td>0</td>\n",
              "      <td>0</td>\n",
              "      <td>1</td>\n",
              "      <td>0</td>\n",
              "    </tr>\n",
              "    <tr>\n",
              "      <th>196554</th>\n",
              "      <td>-0.160072</td>\n",
              "      <td>-0.012334</td>\n",
              "      <td>-0.089597</td>\n",
              "      <td>-0.002665</td>\n",
              "      <td>-0.002235</td>\n",
              "      <td>-0.052816</td>\n",
              "      <td>-0.007462</td>\n",
              "      <td>-1.565399</td>\n",
              "      <td>-0.004408</td>\n",
              "      <td>-0.01751</td>\n",
              "      <td>...</td>\n",
              "      <td>0</td>\n",
              "      <td>0</td>\n",
              "      <td>0</td>\n",
              "      <td>0</td>\n",
              "      <td>0</td>\n",
              "      <td>0</td>\n",
              "      <td>0</td>\n",
              "      <td>0</td>\n",
              "      <td>1</td>\n",
              "      <td>0</td>\n",
              "    </tr>\n",
              "    <tr>\n",
              "      <th>196555</th>\n",
              "      <td>-0.160072</td>\n",
              "      <td>-0.010859</td>\n",
              "      <td>0.332262</td>\n",
              "      <td>-0.002665</td>\n",
              "      <td>-0.002235</td>\n",
              "      <td>-0.052816</td>\n",
              "      <td>-0.007462</td>\n",
              "      <td>0.638815</td>\n",
              "      <td>-0.004408</td>\n",
              "      <td>-0.01751</td>\n",
              "      <td>...</td>\n",
              "      <td>0</td>\n",
              "      <td>0</td>\n",
              "      <td>0</td>\n",
              "      <td>0</td>\n",
              "      <td>0</td>\n",
              "      <td>0</td>\n",
              "      <td>0</td>\n",
              "      <td>0</td>\n",
              "      <td>1</td>\n",
              "      <td>0</td>\n",
              "    </tr>\n",
              "    <tr>\n",
              "      <th>196556</th>\n",
              "      <td>-0.160072</td>\n",
              "      <td>-0.010349</td>\n",
              "      <td>-0.071252</td>\n",
              "      <td>-0.002665</td>\n",
              "      <td>-0.002235</td>\n",
              "      <td>-0.052816</td>\n",
              "      <td>-0.007462</td>\n",
              "      <td>0.638815</td>\n",
              "      <td>-0.004408</td>\n",
              "      <td>-0.01751</td>\n",
              "      <td>...</td>\n",
              "      <td>0</td>\n",
              "      <td>0</td>\n",
              "      <td>0</td>\n",
              "      <td>0</td>\n",
              "      <td>0</td>\n",
              "      <td>0</td>\n",
              "      <td>0</td>\n",
              "      <td>0</td>\n",
              "      <td>1</td>\n",
              "      <td>0</td>\n",
              "    </tr>\n",
              "  </tbody>\n",
              "</table>\n",
              "<p>196557 rows × 83 columns</p>\n",
              "</div>\n",
              "      <button class=\"colab-df-convert\" onclick=\"convertToInteractive('df-f8783536-7d80-4a56-b45a-9bcf32a191d0')\"\n",
              "              title=\"Convert this dataframe to an interactive table.\"\n",
              "              style=\"display:none;\">\n",
              "        \n",
              "  <svg xmlns=\"http://www.w3.org/2000/svg\" height=\"24px\"viewBox=\"0 0 24 24\"\n",
              "       width=\"24px\">\n",
              "    <path d=\"M0 0h24v24H0V0z\" fill=\"none\"/>\n",
              "    <path d=\"M18.56 5.44l.94 2.06.94-2.06 2.06-.94-2.06-.94-.94-2.06-.94 2.06-2.06.94zm-11 1L8.5 8.5l.94-2.06 2.06-.94-2.06-.94L8.5 2.5l-.94 2.06-2.06.94zm10 10l.94 2.06.94-2.06 2.06-.94-2.06-.94-.94-2.06-.94 2.06-2.06.94z\"/><path d=\"M17.41 7.96l-1.37-1.37c-.4-.4-.92-.59-1.43-.59-.52 0-1.04.2-1.43.59L10.3 9.45l-7.72 7.72c-.78.78-.78 2.05 0 2.83L4 21.41c.39.39.9.59 1.41.59.51 0 1.02-.2 1.41-.59l7.78-7.78 2.81-2.81c.8-.78.8-2.07 0-2.86zM5.41 20L4 18.59l7.72-7.72 1.47 1.35L5.41 20z\"/>\n",
              "  </svg>\n",
              "      </button>\n",
              "      \n",
              "  <style>\n",
              "    .colab-df-container {\n",
              "      display:flex;\n",
              "      flex-wrap:wrap;\n",
              "      gap: 12px;\n",
              "    }\n",
              "\n",
              "    .colab-df-convert {\n",
              "      background-color: #E8F0FE;\n",
              "      border: none;\n",
              "      border-radius: 50%;\n",
              "      cursor: pointer;\n",
              "      display: none;\n",
              "      fill: #1967D2;\n",
              "      height: 32px;\n",
              "      padding: 0 0 0 0;\n",
              "      width: 32px;\n",
              "    }\n",
              "\n",
              "    .colab-df-convert:hover {\n",
              "      background-color: #E2EBFA;\n",
              "      box-shadow: 0px 1px 2px rgba(60, 64, 67, 0.3), 0px 1px 3px 1px rgba(60, 64, 67, 0.15);\n",
              "      fill: #174EA6;\n",
              "    }\n",
              "\n",
              "    [theme=dark] .colab-df-convert {\n",
              "      background-color: #3B4455;\n",
              "      fill: #D2E3FC;\n",
              "    }\n",
              "\n",
              "    [theme=dark] .colab-df-convert:hover {\n",
              "      background-color: #434B5C;\n",
              "      box-shadow: 0px 1px 3px 1px rgba(0, 0, 0, 0.15);\n",
              "      filter: drop-shadow(0px 1px 2px rgba(0, 0, 0, 0.3));\n",
              "      fill: #FFFFFF;\n",
              "    }\n",
              "  </style>\n",
              "\n",
              "      <script>\n",
              "        const buttonEl =\n",
              "          document.querySelector('#df-f8783536-7d80-4a56-b45a-9bcf32a191d0 button.colab-df-convert');\n",
              "        buttonEl.style.display =\n",
              "          google.colab.kernel.accessAllowed ? 'block' : 'none';\n",
              "\n",
              "        async function convertToInteractive(key) {\n",
              "          const element = document.querySelector('#df-f8783536-7d80-4a56-b45a-9bcf32a191d0');\n",
              "          const dataTable =\n",
              "            await google.colab.kernel.invokeFunction('convertToInteractive',\n",
              "                                                     [key], {});\n",
              "          if (!dataTable) return;\n",
              "\n",
              "          const docLinkHtml = 'Like what you see? Visit the ' +\n",
              "            '<a target=\"_blank\" href=https://colab.research.google.com/notebooks/data_table.ipynb>data table notebook</a>'\n",
              "            + ' to learn more about interactive tables.';\n",
              "          element.innerHTML = '';\n",
              "          dataTable['output_type'] = 'display_data';\n",
              "          await google.colab.output.renderOutput(dataTable, element);\n",
              "          const docLink = document.createElement('div');\n",
              "          docLink.innerHTML = docLinkHtml;\n",
              "          element.appendChild(docLink);\n",
              "        }\n",
              "      </script>\n",
              "    </div>\n",
              "  </div>\n",
              "  "
            ]
          },
          "metadata": {},
          "execution_count": 39
        }
      ],
      "source": [
        "kddCupTest[numeric_columns] = scaler.transform(kddCupTest[numeric_columns])\n",
        "kddCupTest"
      ]
    },
    {
      "cell_type": "markdown",
      "metadata": {
        "id": "1cRYc5epnTh9"
      },
      "source": [
        "#### 4.4. Make predictions and save the results to csv file.\n",
        "\n",
        "Reconstruct the **kddCupTest** dataset, calculate **mean squared error** as reconstruction error.\n",
        "Save MSE to scv file.\n",
        "\n",
        "`result_df = pd.DataFrame({'reconstruction_error': testMSE})\n",
        " result_df.to_csv('filename.csv')`"
      ]
    },
    {
      "cell_type": "code",
      "execution_count": null,
      "metadata": {
        "colab": {
          "base_uri": "https://localhost:8080/"
        },
        "id": "226tTGccnTh9",
        "outputId": "4bc28326-e70c-468b-910e-eb6f7c085857"
      },
      "outputs": [
        {
          "output_type": "stream",
          "name": "stdout",
          "text": [
            "6143/6143 [==============================] - 9s 1ms/step\n"
          ]
        }
      ],
      "source": [
        "finalPredictions = autoencoder.predict(kddCupTest)"
      ]
    },
    {
      "cell_type": "code",
      "execution_count": null,
      "metadata": {
        "colab": {
          "base_uri": "https://localhost:8080/"
        },
        "id": "HER547MdnTh9",
        "outputId": "304a9858-8312-4e4b-d3a3-c1ddc63650c7"
      },
      "outputs": [
        {
          "output_type": "stream",
          "name": "stdout",
          "text": [
            "[0.00289668 0.00591018 0.01492394 ... 0.00541103 0.00426161 0.00232064]\n"
          ]
        }
      ],
      "source": [
        "testMSE = mean_squared_error(kddCupTest.transpose(), finalPredictions.transpose(),\n",
        "                              multioutput='raw_values')\n",
        "print(testMSE)\n"
      ]
    },
    {
      "cell_type": "code",
      "execution_count": null,
      "metadata": {
        "id": "WO_ddPA1nTh9"
      },
      "outputs": [],
      "source": [
        "result_df = pd.DataFrame({'reconstruction_error': testMSE})\n",
        "result_df.to_csv('filename.csv')"
      ]
    },
    {
      "cell_type": "markdown",
      "metadata": {
        "id": "xgYc49-WnTh9"
      },
      "source": [
        "The format should be as follows:\n",
        "\n",
        ",reconstruction_error\n",
        "0,0.019312\n",
        "1,0.049165\n",
        "2,0.084997"
      ]
    },
    {
      "cell_type": "markdown",
      "metadata": {
        "id": "piO7YFvxnTh9"
      },
      "source": [
        "#### 4.5. Upload the results\n",
        "\n",
        "Upload the saved file using [shiny test application](https://shiny.ilykei.com/courses/AdvancedML/AutoEncoder).\n",
        "The uploaded results will be used for calculation of AUC. The goal for this project is to get AUC not less than 0.97.\n"
      ]
    }
  ],
  "metadata": {
    "kernelspec": {
      "display_name": "Python 3 (ipykernel)",
      "language": "python",
      "name": "python3"
    },
    "language_info": {
      "codemirror_mode": {
        "name": "ipython",
        "version": 3
      },
      "file_extension": ".py",
      "mimetype": "text/x-python",
      "name": "python",
      "nbconvert_exporter": "python",
      "pygments_lexer": "ipython3",
      "version": "3.10.9"
    },
    "colab": {
      "provenance": []
    }
  },
  "nbformat": 4,
  "nbformat_minor": 0
}